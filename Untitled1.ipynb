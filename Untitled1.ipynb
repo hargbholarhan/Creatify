{
  "nbformat": 4,
  "nbformat_minor": 0,
  "metadata": {
    "colab": {
      "name": "Untitled1.ipynb",
      "provenance": [],
      "collapsed_sections": [],
      "authorship_tag": "ABX9TyOwirSFcVJKrdFKUT56i4ul",
      "include_colab_link": true
    },
    "kernelspec": {
      "name": "python3",
      "display_name": "Python 3"
    }
  },
  "cells": [
    {
      "cell_type": "markdown",
      "metadata": {
        "id": "view-in-github",
        "colab_type": "text"
      },
      "source": [
        "<a href=\"https://colab.research.google.com/github/hargbholarhan/Creatify/blob/master/Untitled1.ipynb\" target=\"_parent\"><img src=\"https://colab.research.google.com/assets/colab-badge.svg\" alt=\"Open In Colab\"/></a>"
      ]
    },
    {
      "cell_type": "code",
      "metadata": {
        "id": "oEAxoJyJ0rN-",
        "colab_type": "code",
        "colab": {}
      },
      "source": [
        "import pandas as pd\n",
        "import numpy as np"
      ],
      "execution_count": null,
      "outputs": []
    },
    {
      "cell_type": "code",
      "metadata": {
        "id": "4CItBXSQ0zf4",
        "colab_type": "code",
        "colab": {
          "base_uri": "https://localhost:8080/",
          "height": 122
        },
        "outputId": "1255dcd1-bef5-4499-b699-27f6dd9f9970"
      },
      "source": [
        " from google.colab import drive\n",
        "drive.mount(\"/content/drive\")"
      ],
      "execution_count": null,
      "outputs": [
        {
          "output_type": "stream",
          "text": [
            "Go to this URL in a browser: https://accounts.google.com/o/oauth2/auth?client_id=947318989803-6bn6qk8qdgf4n4g3pfee6491hc0brc4i.apps.googleusercontent.com&redirect_uri=urn%3aietf%3awg%3aoauth%3a2.0%3aoob&response_type=code&scope=email%20https%3a%2f%2fwww.googleapis.com%2fauth%2fdocs.test%20https%3a%2f%2fwww.googleapis.com%2fauth%2fdrive%20https%3a%2f%2fwww.googleapis.com%2fauth%2fdrive.photos.readonly%20https%3a%2f%2fwww.googleapis.com%2fauth%2fpeopleapi.readonly\n",
            "\n",
            "Enter your authorization code:\n",
            "··········\n",
            "Mounted at /content/drive\n"
          ],
          "name": "stdout"
        }
      ]
    },
    {
      "cell_type": "code",
      "metadata": {
        "id": "wqzuT9zr2Q5M",
        "colab_type": "code",
        "colab": {
          "base_uri": "https://localhost:8080/",
          "height": 71
        },
        "outputId": "953317ec-004a-476f-ef5f-b287e5a5a9a3"
      },
      "source": [
        " !ls '/content/drive/My Drive/Kaggle'"
      ],
      "execution_count": null,
      "outputs": [
        {
          "output_type": "stream",
          "text": [
            "check.txt  kaggle.json\tsample_submission.csv  testf\t train\t    yolo-coco\n",
            "data.xlsx  obj.names\ttest\t\t       test.txt  train.txt  yolov5\n"
          ],
          "name": "stdout"
        }
      ]
    },
    {
      "cell_type": "code",
      "metadata": {
        "id": "kUc9RiSD3tmO",
        "colab_type": "code",
        "colab": {}
      },
      "source": [
        "data = pd.read_excel('/content/drive/My Drive/Kaggle/data.xlsx')"
      ],
      "execution_count": null,
      "outputs": []
    },
    {
      "cell_type": "code",
      "metadata": {
        "id": "mZrxxazrIOk-",
        "colab_type": "code",
        "colab": {
          "base_uri": "https://localhost:8080/",
          "height": 103
        },
        "outputId": "77f207b4-e8ea-449e-9a77-2036737d590a"
      },
      "source": [
        " data['Address'].values[0]"
      ],
      "execution_count": null,
      "outputs": [
        {
          "output_type": "execute_result",
          "data": {
            "application/vnd.google.colaboratory.intrinsic+json": {
              "type": "string"
            },
            "text/plain": [
              "' Shop 001 Montana Corner Shopping Centre Corner Dr Swanepoel Road and, Sefako Makgatho Dr, Montana AH, Pretoria, 0181, South Africa'"
            ]
          },
          "metadata": {
            "tags": []
          },
          "execution_count": 51
        }
      ]
    },
    {
      "cell_type": "code",
      "metadata": {
        "id": "J7pErEp_MXCi",
        "colab_type": "code",
        "colab": {
          "base_uri": "https://localhost:8080/",
          "height": 898
        },
        "outputId": "80865baf-d4c6-4322-a80f-1a34fd4d8350"
      },
      "source": [
        "data"
      ],
      "execution_count": null,
      "outputs": [
        {
          "output_type": "execute_result",
          "data": {
            "text/html": [
              "<div>\n",
              "<style scoped>\n",
              "    .dataframe tbody tr th:only-of-type {\n",
              "        vertical-align: middle;\n",
              "    }\n",
              "\n",
              "    .dataframe tbody tr th {\n",
              "        vertical-align: top;\n",
              "    }\n",
              "\n",
              "    .dataframe thead th {\n",
              "        text-align: right;\n",
              "    }\n",
              "</style>\n",
              "<table border=\"1\" class=\"dataframe\">\n",
              "  <thead>\n",
              "    <tr style=\"text-align: right;\">\n",
              "      <th></th>\n",
              "      <th>Name</th>\n",
              "      <th>Year</th>\n",
              "      <th>Restaurant</th>\n",
              "      <th>Type</th>\n",
              "      <th>Address</th>\n",
              "      <th>Zip Code</th>\n",
              "      <th>Days open</th>\n",
              "      <th>Offer Food/drink/coffee  Y/N</th>\n",
              "      <th>Avg Time People Spend There (mins)</th>\n",
              "      <th>Volume max (ml)</th>\n",
              "      <th>Nicotine max - liquid (mg)</th>\n",
              "      <th>Nicotine max - salts (mg)</th>\n",
              "      <th>Nicotine warning</th>\n",
              "      <th>Age restriction</th>\n",
              "      <th>WebLinks</th>\n",
              "      <th>Google link</th>\n",
              "    </tr>\n",
              "  </thead>\n",
              "  <tbody>\n",
              "    <tr>\n",
              "      <th>0</th>\n",
              "      <td>The Vapery Montana</td>\n",
              "      <td>2015</td>\n",
              "      <td>No</td>\n",
              "      <td>vapeshop</td>\n",
              "      <td>Shop 001 Montana Corner Shopping Centre Corne...</td>\n",
              "      <td>NaN</td>\n",
              "      <td>7.0</td>\n",
              "      <td>No</td>\n",
              "      <td>15</td>\n",
              "      <td>NaN</td>\n",
              "      <td>NaN</td>\n",
              "      <td>NaN</td>\n",
              "      <td>NaN</td>\n",
              "      <td>yes</td>\n",
              "      <td>https://www.thevapery.co.za/</td>\n",
              "      <td>NaN</td>\n",
              "    </tr>\n",
              "    <tr>\n",
              "      <th>1</th>\n",
              "      <td>Vape King Mega Store - Fourways</td>\n",
              "      <td>2013-10-01 00:00:00</td>\n",
              "      <td>No</td>\n",
              "      <td>vape shop</td>\n",
              "      <td>4, Merrow Down Plaza, Fourways, 71 Troupant A...</td>\n",
              "      <td>NaN</td>\n",
              "      <td>7.0</td>\n",
              "      <td>No</td>\n",
              "      <td>15</td>\n",
              "      <td>NaN</td>\n",
              "      <td>NaN</td>\n",
              "      <td>NaN</td>\n",
              "      <td>yes</td>\n",
              "      <td>yes</td>\n",
              "      <td>https://www.vapeking.co.za/vape-king-fourways-...</td>\n",
              "      <td>NaN</td>\n",
              "    </tr>\n",
              "    <tr>\n",
              "      <th>2</th>\n",
              "      <td>Vape Shop SA</td>\n",
              "      <td>2013-10-01 00:00:00</td>\n",
              "      <td>No</td>\n",
              "      <td>vapeshop</td>\n",
              "      <td>Sandhurst, Sandton, 2196, South Africa</td>\n",
              "      <td>NaN</td>\n",
              "      <td>7.0</td>\n",
              "      <td>No</td>\n",
              "      <td>NaN</td>\n",
              "      <td>NaN</td>\n",
              "      <td>NaN</td>\n",
              "      <td>NaN</td>\n",
              "      <td>yes</td>\n",
              "      <td>yes</td>\n",
              "      <td>https://www.vapeshop.co.za/</td>\n",
              "      <td>NaN</td>\n",
              "    </tr>\n",
              "    <tr>\n",
              "      <th>3</th>\n",
              "      <td>Vape Africa / Vap3</td>\n",
              "      <td>2012</td>\n",
              "      <td>No</td>\n",
              "      <td>vape shop</td>\n",
              "      <td>N1 City Value Mall, 53 Solly Smiedt Street, N...</td>\n",
              "      <td>NaN</td>\n",
              "      <td>7.0</td>\n",
              "      <td>No</td>\n",
              "      <td>15</td>\n",
              "      <td>NaN</td>\n",
              "      <td>NaN</td>\n",
              "      <td>NaN</td>\n",
              "      <td>NaN</td>\n",
              "      <td>yes</td>\n",
              "      <td>https://vapeafrica.co.za/</td>\n",
              "      <td>NaN</td>\n",
              "    </tr>\n",
              "    <tr>\n",
              "      <th>4</th>\n",
              "      <td>VapeShop Melrose Arch</td>\n",
              "      <td>NaN</td>\n",
              "      <td>No</td>\n",
              "      <td>vape shop</td>\n",
              "      <td>Melrose Arch, (outside Woolworths), Johannesbu...</td>\n",
              "      <td>NaN</td>\n",
              "      <td>7.0</td>\n",
              "      <td>No</td>\n",
              "      <td>NaN</td>\n",
              "      <td>NaN</td>\n",
              "      <td>NaN</td>\n",
              "      <td>NaN</td>\n",
              "      <td>NaN</td>\n",
              "      <td>NaN</td>\n",
              "      <td>https://www.vapeshop.co.za/</td>\n",
              "      <td>NaN</td>\n",
              "    </tr>\n",
              "    <tr>\n",
              "      <th>...</th>\n",
              "      <td>...</td>\n",
              "      <td>...</td>\n",
              "      <td>...</td>\n",
              "      <td>...</td>\n",
              "      <td>...</td>\n",
              "      <td>...</td>\n",
              "      <td>...</td>\n",
              "      <td>...</td>\n",
              "      <td>...</td>\n",
              "      <td>...</td>\n",
              "      <td>...</td>\n",
              "      <td>...</td>\n",
              "      <td>...</td>\n",
              "      <td>...</td>\n",
              "      <td>...</td>\n",
              "      <td>...</td>\n",
              "    </tr>\n",
              "    <tr>\n",
              "      <th>1181</th>\n",
              "      <td>NaN</td>\n",
              "      <td>NaN</td>\n",
              "      <td>NaN</td>\n",
              "      <td>NaN</td>\n",
              "      <td>NaN</td>\n",
              "      <td>NaN</td>\n",
              "      <td>NaN</td>\n",
              "      <td>NaN</td>\n",
              "      <td>NaN</td>\n",
              "      <td>NaN</td>\n",
              "      <td>NaN</td>\n",
              "      <td>NaN</td>\n",
              "      <td>NaN</td>\n",
              "      <td>NaN</td>\n",
              "      <td>NaN</td>\n",
              "      <td>NaN</td>\n",
              "    </tr>\n",
              "    <tr>\n",
              "      <th>1182</th>\n",
              "      <td>NaN</td>\n",
              "      <td>NaN</td>\n",
              "      <td>NaN</td>\n",
              "      <td>NaN</td>\n",
              "      <td>NaN</td>\n",
              "      <td>NaN</td>\n",
              "      <td>NaN</td>\n",
              "      <td>NaN</td>\n",
              "      <td>NaN</td>\n",
              "      <td>NaN</td>\n",
              "      <td>NaN</td>\n",
              "      <td>NaN</td>\n",
              "      <td>NaN</td>\n",
              "      <td>NaN</td>\n",
              "      <td>NaN</td>\n",
              "      <td>NaN</td>\n",
              "    </tr>\n",
              "    <tr>\n",
              "      <th>1183</th>\n",
              "      <td>NaN</td>\n",
              "      <td>NaN</td>\n",
              "      <td>NaN</td>\n",
              "      <td>NaN</td>\n",
              "      <td>NaN</td>\n",
              "      <td>NaN</td>\n",
              "      <td>NaN</td>\n",
              "      <td>NaN</td>\n",
              "      <td>NaN</td>\n",
              "      <td>NaN</td>\n",
              "      <td>NaN</td>\n",
              "      <td>NaN</td>\n",
              "      <td>NaN</td>\n",
              "      <td>NaN</td>\n",
              "      <td>NaN</td>\n",
              "      <td>NaN</td>\n",
              "    </tr>\n",
              "    <tr>\n",
              "      <th>1184</th>\n",
              "      <td>NaN</td>\n",
              "      <td>NaN</td>\n",
              "      <td>NaN</td>\n",
              "      <td>NaN</td>\n",
              "      <td>NaN</td>\n",
              "      <td>NaN</td>\n",
              "      <td>NaN</td>\n",
              "      <td>NaN</td>\n",
              "      <td>NaN</td>\n",
              "      <td>NaN</td>\n",
              "      <td>NaN</td>\n",
              "      <td>NaN</td>\n",
              "      <td>NaN</td>\n",
              "      <td>NaN</td>\n",
              "      <td>NaN</td>\n",
              "      <td>NaN</td>\n",
              "    </tr>\n",
              "    <tr>\n",
              "      <th>1185</th>\n",
              "      <td>ATOMIZE | VAPE SHOP PTA EAST | E-CIGS &amp; E-LIQUIDS</td>\n",
              "      <td>NaN</td>\n",
              "      <td>NaN</td>\n",
              "      <td>NaN</td>\n",
              "      <td>NaN</td>\n",
              "      <td>NaN</td>\n",
              "      <td>NaN</td>\n",
              "      <td>NaN</td>\n",
              "      <td>NaN</td>\n",
              "      <td>NaN</td>\n",
              "      <td>NaN</td>\n",
              "      <td>NaN</td>\n",
              "      <td>NaN</td>\n",
              "      <td>NaN</td>\n",
              "      <td>NaN</td>\n",
              "      <td>NaN</td>\n",
              "    </tr>\n",
              "  </tbody>\n",
              "</table>\n",
              "<p>1186 rows × 16 columns</p>\n",
              "</div>"
            ],
            "text/plain": [
              "                                                   Name  ... Google link\n",
              "0                                    The Vapery Montana  ...         NaN\n",
              "1                       Vape King Mega Store - Fourways  ...         NaN\n",
              "2                                          Vape Shop SA  ...         NaN\n",
              "3                                    Vape Africa / Vap3  ...         NaN\n",
              "4                                 VapeShop Melrose Arch  ...         NaN\n",
              "...                                                 ...  ...         ...\n",
              "1181                                                NaN  ...         NaN\n",
              "1182                                                NaN  ...         NaN\n",
              "1183                                                NaN  ...         NaN\n",
              "1184                                                NaN  ...         NaN\n",
              "1185  ATOMIZE | VAPE SHOP PTA EAST | E-CIGS & E-LIQUIDS  ...         NaN\n",
              "\n",
              "[1186 rows x 16 columns]"
            ]
          },
          "metadata": {
            "tags": []
          },
          "execution_count": 53
        }
      ]
    },
    {
      "cell_type": "code",
      "metadata": {
        "id": "_edQ-wv74y5K",
        "colab_type": "code",
        "colab": {
          "base_uri": "https://localhost:8080/",
          "height": 487
        },
        "outputId": "609417d2-ab17-423d-b957-ecd6eb16864f"
      },
      "source": [
        "datar = data['Address']\n",
        "datar=pd.DataFrame(datar)\n",
        "datar = datar.dropna()\n",
        "datar"
      ],
      "execution_count": 76,
      "outputs": [
        {
          "output_type": "execute_result",
          "data": {
            "text/html": [
              "<div>\n",
              "<style scoped>\n",
              "    .dataframe tbody tr th:only-of-type {\n",
              "        vertical-align: middle;\n",
              "    }\n",
              "\n",
              "    .dataframe tbody tr th {\n",
              "        vertical-align: top;\n",
              "    }\n",
              "\n",
              "    .dataframe thead th {\n",
              "        text-align: right;\n",
              "    }\n",
              "</style>\n",
              "<table border=\"1\" class=\"dataframe\">\n",
              "  <thead>\n",
              "    <tr style=\"text-align: right;\">\n",
              "      <th></th>\n",
              "      <th>Address</th>\n",
              "    </tr>\n",
              "  </thead>\n",
              "  <tbody>\n",
              "    <tr>\n",
              "      <th>0</th>\n",
              "      <td>Shop 001 Montana Corner Shopping Centre Corne...</td>\n",
              "    </tr>\n",
              "    <tr>\n",
              "      <th>1</th>\n",
              "      <td>4, Merrow Down Plaza, Fourways, 71 Troupant A...</td>\n",
              "    </tr>\n",
              "    <tr>\n",
              "      <th>2</th>\n",
              "      <td>Sandhurst, Sandton, 2196, South Africa</td>\n",
              "    </tr>\n",
              "    <tr>\n",
              "      <th>3</th>\n",
              "      <td>N1 City Value Mall, 53 Solly Smiedt Street, N...</td>\n",
              "    </tr>\n",
              "    <tr>\n",
              "      <th>4</th>\n",
              "      <td>Johannesburg</td>\n",
              "    </tr>\n",
              "    <tr>\n",
              "      <th>...</th>\n",
              "      <td>...</td>\n",
              "    </tr>\n",
              "    <tr>\n",
              "      <th>236</th>\n",
              "      <td>V alley View Centre, Krugersdrops</td>\n",
              "    </tr>\n",
              "    <tr>\n",
              "      <th>237</th>\n",
              "      <td>Blubird Centre, Melrose</td>\n",
              "    </tr>\n",
              "    <tr>\n",
              "      <th>238</th>\n",
              "      <td>Bracken Villa Alberton</td>\n",
              "    </tr>\n",
              "    <tr>\n",
              "      <th>239</th>\n",
              "      <td>Homestead,kimberley</td>\n",
              "    </tr>\n",
              "    <tr>\n",
              "      <th>240</th>\n",
              "      <td>Post Office Centre, Illovo</td>\n",
              "    </tr>\n",
              "  </tbody>\n",
              "</table>\n",
              "<p>240 rows × 1 columns</p>\n",
              "</div>"
            ],
            "text/plain": [
              "                                               Address\n",
              "0     Shop 001 Montana Corner Shopping Centre Corne...\n",
              "1     4, Merrow Down Plaza, Fourways, 71 Troupant A...\n",
              "2               Sandhurst, Sandton, 2196, South Africa\n",
              "3     N1 City Value Mall, 53 Solly Smiedt Street, N...\n",
              "4                                         Johannesburg\n",
              "..                                                 ...\n",
              "236                  V alley View Centre, Krugersdrops\n",
              "237                            Blubird Centre, Melrose\n",
              "238                             Bracken Villa Alberton\n",
              "239                                Homestead,kimberley\n",
              "240                         Post Office Centre, Illovo\n",
              "\n",
              "[240 rows x 1 columns]"
            ]
          },
          "metadata": {
            "tags": []
          },
          "execution_count": 76
        }
      ]
    },
    {
      "cell_type": "code",
      "metadata": {
        "id": "2g0kLjrgLQov",
        "colab_type": "code",
        "colab": {
          "base_uri": "https://localhost:8080/",
          "height": 453
        },
        "outputId": "aa2dab14-1ca8-421e-bc9d-4fa7671a2d2a"
      },
      "source": [
        "datar['Address'] = datar.Address.str.replace(r'(^.*Pretoria.*$)', 'Gauteng')\n",
        "datar['Address'] = datar.Address.str.replace(r'(^.*Johannesburg.*$)', 'Gauteng')\n",
        "datar['Address'] = datar.Address.str.replace(r'(^.*Randburg.*$)','Gauteng')\n",
        "datar['Address'] = datar.Address.str.replace(r'(^.*Gauteng.*$)','Gauteng')\n",
        "datar['Address'] = datar.Address.str.replace(r'(^.*Roodepoort.*$)','Gauteng')\n",
        "datar['Address'] = datar.Address.str.replace(r'(^.*Soweto.*$)','Gauteng')\n",
        "datar['Address'] = datar.Address.str.replace(r'(^.*Randfontein.*$)', 'Gauteng')\n",
        "datar['Address'] = datar.Address.str.replace(r'(^.*Vereenniging.*$)','Gauteng')\n",
        "datar['Address'] = datar.Address.str.replace(r'(^.*Cape Town.*$)', 'Western Cape')\n",
        "datar['Address'] = datar.Address.str.replace(r'(^.*Bellville.*$)', 'Western Cape')\n",
        "datar['Address'] = datar.Address.str.replace(r'(^.*Stellenbosch.*$)', 'Western Cape')\n",
        "datar['Address'] = datar.Address.str.replace(r'(^.*Western Cape.*$)','Western Cape')\n",
        "datar['Address'] = datar.Address.str.replace(r'(^.*Durban.*$)','KwalZulu-Natal')\n",
        "datar['Address'] = datar.Address.str.replace(r'(^.*Pietermaritzburg.*$)','KwaZulu-Natal')\n",
        "datar['Address'] = datar.Address.str.replace(r'(^.*kwaZulu-Natal.*$)','KwaZulu-Natal')\n",
        "datar['Address'] = datar.Address.str.replace(r'(^.*Pinetown.*$)','KwaZulu-Natal')\n",
        "datar"
      ],
      "execution_count": 58,
      "outputs": [
        {
          "output_type": "execute_result",
          "data": {
            "text/html": [
              "<div>\n",
              "<style scoped>\n",
              "    .dataframe tbody tr th:only-of-type {\n",
              "        vertical-align: middle;\n",
              "    }\n",
              "\n",
              "    .dataframe tbody tr th {\n",
              "        vertical-align: top;\n",
              "    }\n",
              "\n",
              "    .dataframe thead th {\n",
              "        text-align: right;\n",
              "    }\n",
              "</style>\n",
              "<table border=\"1\" class=\"dataframe\">\n",
              "  <thead>\n",
              "    <tr style=\"text-align: right;\">\n",
              "      <th></th>\n",
              "      <th>Address</th>\n",
              "    </tr>\n",
              "  </thead>\n",
              "  <tbody>\n",
              "    <tr>\n",
              "      <th>0</th>\n",
              "      <td>Gauteng</td>\n",
              "    </tr>\n",
              "    <tr>\n",
              "      <th>1</th>\n",
              "      <td>4, Merrow Down Plaza, Fourways, 71 Troupant A...</td>\n",
              "    </tr>\n",
              "    <tr>\n",
              "      <th>2</th>\n",
              "      <td>Sandhurst, Sandton, 2196, South Africa</td>\n",
              "    </tr>\n",
              "    <tr>\n",
              "      <th>3</th>\n",
              "      <td>Western Cape</td>\n",
              "    </tr>\n",
              "    <tr>\n",
              "      <th>4</th>\n",
              "      <td>Gauteng</td>\n",
              "    </tr>\n",
              "    <tr>\n",
              "      <th>...</th>\n",
              "      <td>...</td>\n",
              "    </tr>\n",
              "    <tr>\n",
              "      <th>236</th>\n",
              "      <td>V alley View Centre, Krugersdrops</td>\n",
              "    </tr>\n",
              "    <tr>\n",
              "      <th>237</th>\n",
              "      <td>Blubird Centre, Melrose</td>\n",
              "    </tr>\n",
              "    <tr>\n",
              "      <th>238</th>\n",
              "      <td>Bracken Villa Alberton</td>\n",
              "    </tr>\n",
              "    <tr>\n",
              "      <th>239</th>\n",
              "      <td>Homestead,kimberley</td>\n",
              "    </tr>\n",
              "    <tr>\n",
              "      <th>240</th>\n",
              "      <td>Post Office Centre, Illovo</td>\n",
              "    </tr>\n",
              "  </tbody>\n",
              "</table>\n",
              "<p>240 rows × 1 columns</p>\n",
              "</div>"
            ],
            "text/plain": [
              "                                               Address\n",
              "0                                              Gauteng\n",
              "1     4, Merrow Down Plaza, Fourways, 71 Troupant A...\n",
              "2               Sandhurst, Sandton, 2196, South Africa\n",
              "3                                         Western Cape\n",
              "4                                              Gauteng\n",
              "..                                                 ...\n",
              "236                  V alley View Centre, Krugersdrops\n",
              "237                            Blubird Centre, Melrose\n",
              "238                             Bracken Villa Alberton\n",
              "239                                Homestead,kimberley\n",
              "240                         Post Office Centre, Illovo\n",
              "\n",
              "[240 rows x 1 columns]"
            ]
          },
          "metadata": {
            "tags": []
          },
          "execution_count": 58
        }
      ]
    },
    {
      "cell_type": "code",
      "metadata": {
        "id": "Q4-Pkcffs_Ww",
        "colab_type": "code",
        "colab": {
          "base_uri": "https://localhost:8080/",
          "height": 691
        },
        "outputId": "effceb2b-9189-4be6-81a6-95b04f18b977"
      },
      "source": [
        "east = ['Alice','Montana','Butterwort','East London','Graaff-Reinet','Grahamstown','King William’s Town','Mthatha','Port Elizabeth','Queenstown','Uitenhage','Zwelitsha']\n",
        "for est in east:\n",
        "   datar['Address'] = datar.Address.str.replace(r'(^.*est.*$)','Eastern Cape')\n",
        "   print(est)\n",
        "datar"
      ],
      "execution_count": 81,
      "outputs": [
        {
          "output_type": "stream",
          "text": [
            "Alice\n",
            "Montana\n",
            "Butterwort\n",
            "East London\n",
            "Graaff-Reinet\n",
            "Grahamstown\n",
            "King William’s Town\n",
            "Mthatha\n",
            "Port Elizabeth\n",
            "Queenstown\n",
            "Uitenhage\n",
            "Zwelitsha\n"
          ],
          "name": "stdout"
        },
        {
          "output_type": "execute_result",
          "data": {
            "text/html": [
              "<div>\n",
              "<style scoped>\n",
              "    .dataframe tbody tr th:only-of-type {\n",
              "        vertical-align: middle;\n",
              "    }\n",
              "\n",
              "    .dataframe tbody tr th {\n",
              "        vertical-align: top;\n",
              "    }\n",
              "\n",
              "    .dataframe thead th {\n",
              "        text-align: right;\n",
              "    }\n",
              "</style>\n",
              "<table border=\"1\" class=\"dataframe\">\n",
              "  <thead>\n",
              "    <tr style=\"text-align: right;\">\n",
              "      <th></th>\n",
              "      <th>Address</th>\n",
              "    </tr>\n",
              "  </thead>\n",
              "  <tbody>\n",
              "    <tr>\n",
              "      <th>0</th>\n",
              "      <td>Shop 001 Montana Corner Shopping Centre Corne...</td>\n",
              "    </tr>\n",
              "    <tr>\n",
              "      <th>1</th>\n",
              "      <td>4, Merrow Down Plaza, Fourways, 71 Troupant A...</td>\n",
              "    </tr>\n",
              "    <tr>\n",
              "      <th>2</th>\n",
              "      <td>Sandhurst, Sandton, 2196, South Africa</td>\n",
              "    </tr>\n",
              "    <tr>\n",
              "      <th>3</th>\n",
              "      <td>N1 City Value Mall, 53 Solly Smiedt Street, N...</td>\n",
              "    </tr>\n",
              "    <tr>\n",
              "      <th>4</th>\n",
              "      <td>Johannesburg</td>\n",
              "    </tr>\n",
              "    <tr>\n",
              "      <th>...</th>\n",
              "      <td>...</td>\n",
              "    </tr>\n",
              "    <tr>\n",
              "      <th>236</th>\n",
              "      <td>V alley View Centre, Krugersdrops</td>\n",
              "    </tr>\n",
              "    <tr>\n",
              "      <th>237</th>\n",
              "      <td>Blubird Centre, Melrose</td>\n",
              "    </tr>\n",
              "    <tr>\n",
              "      <th>238</th>\n",
              "      <td>Bracken Villa Alberton</td>\n",
              "    </tr>\n",
              "    <tr>\n",
              "      <th>239</th>\n",
              "      <td>Homestead,kimberley</td>\n",
              "    </tr>\n",
              "    <tr>\n",
              "      <th>240</th>\n",
              "      <td>Post Office Centre, Illovo</td>\n",
              "    </tr>\n",
              "  </tbody>\n",
              "</table>\n",
              "<p>240 rows × 1 columns</p>\n",
              "</div>"
            ],
            "text/plain": [
              "                                               Address\n",
              "0     Shop 001 Montana Corner Shopping Centre Corne...\n",
              "1     4, Merrow Down Plaza, Fourways, 71 Troupant A...\n",
              "2               Sandhurst, Sandton, 2196, South Africa\n",
              "3     N1 City Value Mall, 53 Solly Smiedt Street, N...\n",
              "4                                         Johannesburg\n",
              "..                                                 ...\n",
              "236                  V alley View Centre, Krugersdrops\n",
              "237                            Blubird Centre, Melrose\n",
              "238                             Bracken Villa Alberton\n",
              "239                                Homestead,kimberley\n",
              "240                         Post Office Centre, Illovo\n",
              "\n",
              "[240 rows x 1 columns]"
            ]
          },
          "metadata": {
            "tags": []
          },
          "execution_count": 81
        }
      ]
    },
    {
      "cell_type": "code",
      "metadata": {
        "id": "sF5KfA5Yoqz2",
        "colab_type": "code",
        "colab": {}
      },
      "source": [
        "datar.to_csv('datar.csv')"
      ],
      "execution_count": 72,
      "outputs": []
    },
    {
      "cell_type": "code",
      "metadata": {
        "id": "srC_O1X8rObn",
        "colab_type": "code",
        "colab": {
          "base_uri": "https://localhost:8080/",
          "height": 71
        },
        "outputId": "281f43ff-0ec0-4306-b50c-47cbf8bc9f61"
      },
      "source": [
        "!ls"
      ],
      "execution_count": 71,
      "outputs": [
        {
          "output_type": "stream",
          "text": [
            "check.txt  kaggle.json\tsample_submission.csv  testf\t train\t    yolo-coco\n",
            "data.xlsx  obj.names\ttest\t\t       test.txt  train.txt  yolov5\n"
          ],
          "name": "stdout"
        }
      ]
    },
    {
      "cell_type": "code",
      "metadata": {
        "id": "vcIshw1hpfBZ",
        "colab_type": "code",
        "colab": {
          "base_uri": "https://localhost:8080/",
          "height": 34
        },
        "outputId": "133a4c80-0e54-4b7f-9f5e-55b4de319ea3"
      },
      "source": [
        "%cd '/content/drive/My Drive/Kaggle'"
      ],
      "execution_count": 70,
      "outputs": [
        {
          "output_type": "stream",
          "text": [
            "/content/drive/My Drive/Kaggle\n"
          ],
          "name": "stdout"
        }
      ]
    },
    {
      "cell_type": "code",
      "metadata": {
        "id": "jKjHkSufRZZV",
        "colab_type": "code",
        "colab": {
          "base_uri": "https://localhost:8080/",
          "height": 401
        },
        "outputId": "065466c1-92f3-4739-de15-620002160539"
      },
      "source": [
        "import re\n",
        "gauteng = ['Pretoria','Johannesburg','Soweto','Troupant']\n",
        "for i in gauteng:\n",
        "   matched = re.match('^.*i.*$', datar.Address.values)\n",
        "   if is_matched:\n",
        "      datar.Address.str.replace(r'(^.*i.*$)', 'Gauteng')"
      ],
      "execution_count": null,
      "outputs": [
        {
          "output_type": "error",
          "ename": "TypeError",
          "evalue": "ignored",
          "traceback": [
            "\u001b[0;31m---------------------------------------------------------------------------\u001b[0m",
            "\u001b[0;31mTypeError\u001b[0m                                 Traceback (most recent call last)",
            "\u001b[0;32m<ipython-input-46-63e8ab15f4ef>\u001b[0m in \u001b[0;36m<module>\u001b[0;34m()\u001b[0m\n\u001b[1;32m      2\u001b[0m \u001b[0mgauteng\u001b[0m \u001b[0;34m=\u001b[0m \u001b[0;34m[\u001b[0m\u001b[0;34m'Pretoria'\u001b[0m\u001b[0;34m,\u001b[0m\u001b[0;34m'Johannesburg'\u001b[0m\u001b[0;34m,\u001b[0m\u001b[0;34m'Soweto'\u001b[0m\u001b[0;34m,\u001b[0m\u001b[0;34m'Troupant'\u001b[0m\u001b[0;34m]\u001b[0m\u001b[0;34m\u001b[0m\u001b[0;34m\u001b[0m\u001b[0m\n\u001b[1;32m      3\u001b[0m \u001b[0;32mfor\u001b[0m \u001b[0mi\u001b[0m \u001b[0;32min\u001b[0m \u001b[0mgauteng\u001b[0m\u001b[0;34m:\u001b[0m\u001b[0;34m\u001b[0m\u001b[0;34m\u001b[0m\u001b[0m\n\u001b[0;32m----> 4\u001b[0;31m    \u001b[0mmatched\u001b[0m \u001b[0;34m=\u001b[0m \u001b[0mre\u001b[0m\u001b[0;34m.\u001b[0m\u001b[0mmatch\u001b[0m\u001b[0;34m(\u001b[0m\u001b[0;34m'^.*i.*$'\u001b[0m\u001b[0;34m,\u001b[0m \u001b[0mdatar\u001b[0m\u001b[0;34m.\u001b[0m\u001b[0mAddress\u001b[0m\u001b[0;34m.\u001b[0m\u001b[0mvalues\u001b[0m\u001b[0;34m)\u001b[0m\u001b[0;34m\u001b[0m\u001b[0;34m\u001b[0m\u001b[0m\n\u001b[0m\u001b[1;32m      5\u001b[0m    \u001b[0;32mif\u001b[0m \u001b[0mis_matched\u001b[0m\u001b[0;34m:\u001b[0m\u001b[0;34m\u001b[0m\u001b[0;34m\u001b[0m\u001b[0m\n\u001b[1;32m      6\u001b[0m       \u001b[0mdatar\u001b[0m\u001b[0;34m.\u001b[0m\u001b[0mAddress\u001b[0m\u001b[0;34m.\u001b[0m\u001b[0mstr\u001b[0m\u001b[0;34m.\u001b[0m\u001b[0mreplace\u001b[0m\u001b[0;34m(\u001b[0m\u001b[0;34mr'(^.*i.*$)'\u001b[0m\u001b[0;34m,\u001b[0m \u001b[0;34m'Gauteng'\u001b[0m\u001b[0;34m)\u001b[0m\u001b[0;34m\u001b[0m\u001b[0;34m\u001b[0m\u001b[0m\n",
            "\u001b[0;32m/usr/lib/python3.6/re.py\u001b[0m in \u001b[0;36mmatch\u001b[0;34m(pattern, string, flags)\u001b[0m\n\u001b[1;32m    170\u001b[0m     \"\"\"Try to apply the pattern at the start of the string, returning\n\u001b[1;32m    171\u001b[0m     a match object, or None if no match was found.\"\"\"\n\u001b[0;32m--> 172\u001b[0;31m     \u001b[0;32mreturn\u001b[0m \u001b[0m_compile\u001b[0m\u001b[0;34m(\u001b[0m\u001b[0mpattern\u001b[0m\u001b[0;34m,\u001b[0m \u001b[0mflags\u001b[0m\u001b[0;34m)\u001b[0m\u001b[0;34m.\u001b[0m\u001b[0mmatch\u001b[0m\u001b[0;34m(\u001b[0m\u001b[0mstring\u001b[0m\u001b[0;34m)\u001b[0m\u001b[0;34m\u001b[0m\u001b[0;34m\u001b[0m\u001b[0m\n\u001b[0m\u001b[1;32m    173\u001b[0m \u001b[0;34m\u001b[0m\u001b[0m\n\u001b[1;32m    174\u001b[0m \u001b[0;32mdef\u001b[0m \u001b[0mfullmatch\u001b[0m\u001b[0;34m(\u001b[0m\u001b[0mpattern\u001b[0m\u001b[0;34m,\u001b[0m \u001b[0mstring\u001b[0m\u001b[0;34m,\u001b[0m \u001b[0mflags\u001b[0m\u001b[0;34m=\u001b[0m\u001b[0;36m0\u001b[0m\u001b[0;34m)\u001b[0m\u001b[0;34m:\u001b[0m\u001b[0;34m\u001b[0m\u001b[0;34m\u001b[0m\u001b[0m\n",
            "\u001b[0;31mTypeError\u001b[0m: cannot use a string pattern on a bytes-like object"
          ]
        }
      ]
    },
    {
      "cell_type": "code",
      "metadata": {
        "id": "Zpnpcoo85-Ns",
        "colab_type": "code",
        "colab": {
          "base_uri": "https://localhost:8080/",
          "height": 69
        },
        "outputId": "9020da08-c3c2-4c2e-ae62-faf3655c2cd9"
      },
      "source": [
        "S=Addr[1]\n",
        "S"
      ],
      "execution_count": null,
      "outputs": [
        {
          "output_type": "execute_result",
          "data": {
            "application/vnd.google.colaboratory.intrinsic+json": {
              "type": "string"
            },
            "text/plain": [
              "' 4, Merrow Down Plaza, Fourways, 71 Troupant Ave, Magaliessig, 2191, South Africa'"
            ]
          },
          "metadata": {
            "tags": []
          },
          "execution_count": 29
        }
      ]
    }
  ]
}