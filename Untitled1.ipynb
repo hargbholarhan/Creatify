{
  "nbformat": 4,
  "nbformat_minor": 0,
  "metadata": {
    "colab": {
      "name": "Untitled1.ipynb",
      "provenance": [],
      "collapsed_sections": [],
      "authorship_tag": "ABX9TyO1ySJhegK1mJMYZhmsEI+4",
      "include_colab_link": true
    },
    "kernelspec": {
      "name": "python3",
      "display_name": "Python 3"
    }
  },
  "cells": [
    {
      "cell_type": "markdown",
      "metadata": {
        "id": "view-in-github",
        "colab_type": "text"
      },
      "source": [
        "<a href=\"https://colab.research.google.com/github/hargbholarhan/Creatify/blob/master/Untitled1.ipynb\" target=\"_parent\"><img src=\"https://colab.research.google.com/assets/colab-badge.svg\" alt=\"Open In Colab\"/></a>"
      ]
    },
    {
      "cell_type": "code",
      "metadata": {
        "id": "oEAxoJyJ0rN-",
        "colab_type": "code",
        "colab": {}
      },
      "source": [
        "import pandas as pd\n",
        "import numpy as np"
      ],
      "execution_count": null,
      "outputs": []
    },
    {
      "cell_type": "code",
      "metadata": {
        "id": "4CItBXSQ0zf4",
        "colab_type": "code",
        "colab": {
          "base_uri": "https://localhost:8080/",
          "height": 122
        },
        "outputId": "a7f81408-ae72-465c-b831-091c53cf06ec"
      },
      "source": [
        " from google.colab import drive\n",
        "drive.mount(\"/content/drive\")"
      ],
      "execution_count": null,
      "outputs": [
        {
          "output_type": "stream",
          "text": [
            "Go to this URL in a browser: https://accounts.google.com/o/oauth2/auth?client_id=947318989803-6bn6qk8qdgf4n4g3pfee6491hc0brc4i.apps.googleusercontent.com&redirect_uri=urn%3aietf%3awg%3aoauth%3a2.0%3aoob&response_type=code&scope=email%20https%3a%2f%2fwww.googleapis.com%2fauth%2fdocs.test%20https%3a%2f%2fwww.googleapis.com%2fauth%2fdrive%20https%3a%2f%2fwww.googleapis.com%2fauth%2fdrive.photos.readonly%20https%3a%2f%2fwww.googleapis.com%2fauth%2fpeopleapi.readonly\n",
            "\n",
            "Enter your authorization code:\n",
            "··········\n",
            "Mounted at /content/drive\n"
          ],
          "name": "stdout"
        }
      ]
    },
    {
      "cell_type": "code",
      "metadata": {
        "id": "wqzuT9zr2Q5M",
        "colab_type": "code",
        "colab": {
          "base_uri": "https://localhost:8080/",
          "height": 88
        },
        "outputId": "8fba8cf4-66da-4890-fdf8-d958591c1c2a"
      },
      "source": [
        " !ls '/content/drive/My Drive/Kaggle'"
      ],
      "execution_count": null,
      "outputs": [
        {
          "output_type": "stream",
          "text": [
            "check.txt  kaggle.json\t\t  test\t    train      yolov5\n",
            "datar.csv  obj.names\t\t  testf     train.txt\n",
            "data.xlsx  sample_submission.csv  test.txt  yolo-coco\n"
          ],
          "name": "stdout"
        }
      ]
    },
    {
      "cell_type": "code",
      "metadata": {
        "id": "kUc9RiSD3tmO",
        "colab_type": "code",
        "colab": {}
      },
      "source": [
        "data = pd.read_excel('/content/drive/My Drive/Kaggle/data.xlsx')"
      ],
      "execution_count": null,
      "outputs": []
    },
    {
      "cell_type": "code",
      "metadata": {
        "id": "kj8dQ-jRVarY",
        "colab_type": "code",
        "colab": {}
      },
      "source": [
        " datar = pd.read_csv('/content/drive/My Drive/Kaggle/datar.csv')"
      ],
      "execution_count": null,
      "outputs": []
    },
    {
      "cell_type": "code",
      "metadata": {
        "id": "mZrxxazrIOk-",
        "colab_type": "code",
        "colab": {
          "base_uri": "https://localhost:8080/",
          "height": 103
        },
        "outputId": "d2290212-a6a4-4502-9996-64cdeb786594"
      },
      "source": [
        " data['Address'].values[0]"
      ],
      "execution_count": null,
      "outputs": [
        {
          "output_type": "execute_result",
          "data": {
            "application/vnd.google.colaboratory.intrinsic+json": {
              "type": "string"
            },
            "text/plain": [
              "' Shop 001 Montana Corner Shopping Centre Corner Dr Swanepoel Road and, Sefako Makgatho Dr, Montana AH, Pretoria, 0181, South Africa'"
            ]
          },
          "metadata": {
            "tags": []
          },
          "execution_count": 5
        }
      ]
    },
    {
      "cell_type": "code",
      "metadata": {
        "id": "_edQ-wv74y5K",
        "colab_type": "code",
        "colab": {
          "base_uri": "https://localhost:8080/",
          "height": 504
        },
        "outputId": "db3a1f0f-b2a0-4b95-dc8a-34aa90242bd4"
      },
      "source": [
        "datar = data['Address']\n",
        "datar=pd.DataFrame(datar)\n",
        "datar = datar.dropna()\n",
        "datar"
      ],
      "execution_count": null,
      "outputs": [
        {
          "output_type": "execute_result",
          "data": {
            "text/html": [
              "<div>\n",
              "<style scoped>\n",
              "    .dataframe tbody tr th:only-of-type {\n",
              "        vertical-align: middle;\n",
              "    }\n",
              "\n",
              "    .dataframe tbody tr th {\n",
              "        vertical-align: top;\n",
              "    }\n",
              "\n",
              "    .dataframe thead th {\n",
              "        text-align: right;\n",
              "    }\n",
              "</style>\n",
              "<table border=\"1\" class=\"dataframe\">\n",
              "  <thead>\n",
              "    <tr style=\"text-align: right;\">\n",
              "      <th></th>\n",
              "      <th>Address</th>\n",
              "    </tr>\n",
              "  </thead>\n",
              "  <tbody>\n",
              "    <tr>\n",
              "      <th>0</th>\n",
              "      <td>Shop 001 Montana Corner Shopping Centre Corne...</td>\n",
              "    </tr>\n",
              "    <tr>\n",
              "      <th>1</th>\n",
              "      <td>4, Merrow Down Plaza, Fourways, 71 Troupant A...</td>\n",
              "    </tr>\n",
              "    <tr>\n",
              "      <th>2</th>\n",
              "      <td>Sandhurst, Sandton, 2196, South Africa</td>\n",
              "    </tr>\n",
              "    <tr>\n",
              "      <th>3</th>\n",
              "      <td>N1 City Value Mall, 53 Solly Smiedt Street, N...</td>\n",
              "    </tr>\n",
              "    <tr>\n",
              "      <th>4</th>\n",
              "      <td>Melrose Arch, (outside Woolworths), Johannesbu...</td>\n",
              "    </tr>\n",
              "    <tr>\n",
              "      <th>...</th>\n",
              "      <td>...</td>\n",
              "    </tr>\n",
              "    <tr>\n",
              "      <th>236</th>\n",
              "      <td>V alley View Centre, Krugersdrops</td>\n",
              "    </tr>\n",
              "    <tr>\n",
              "      <th>237</th>\n",
              "      <td>Blubird Centre, Melrose</td>\n",
              "    </tr>\n",
              "    <tr>\n",
              "      <th>238</th>\n",
              "      <td>Bracken Villa Alberton</td>\n",
              "    </tr>\n",
              "    <tr>\n",
              "      <th>239</th>\n",
              "      <td>Homestead,kimberley</td>\n",
              "    </tr>\n",
              "    <tr>\n",
              "      <th>240</th>\n",
              "      <td>Post Office Centre, Illovo</td>\n",
              "    </tr>\n",
              "  </tbody>\n",
              "</table>\n",
              "<p>241 rows × 1 columns</p>\n",
              "</div>"
            ],
            "text/plain": [
              "                                               Address\n",
              "0     Shop 001 Montana Corner Shopping Centre Corne...\n",
              "1     4, Merrow Down Plaza, Fourways, 71 Troupant A...\n",
              "2               Sandhurst, Sandton, 2196, South Africa\n",
              "3     N1 City Value Mall, 53 Solly Smiedt Street, N...\n",
              "4    Melrose Arch, (outside Woolworths), Johannesbu...\n",
              "..                                                 ...\n",
              "236                  V alley View Centre, Krugersdrops\n",
              "237                            Blubird Centre, Melrose\n",
              "238                             Bracken Villa Alberton\n",
              "239                                Homestead,kimberley\n",
              "240                         Post Office Centre, Illovo\n",
              "\n",
              "[241 rows x 1 columns]"
            ]
          },
          "metadata": {
            "tags": []
          },
          "execution_count": 25
        }
      ]
    },
    {
      "cell_type": "code",
      "metadata": {
        "id": "2g0kLjrgLQov",
        "colab_type": "code",
        "colab": {}
      },
      "source": [
        "datar['Address'] = datar.Address.str.replace(r'(^.*Pretoria.*$)', 'Gauteng')\n",
        "datar['Address'] = datar.Address.str.replace(r'(^.*Johannesburg.*$)', 'Gauteng')\n",
        "datar['Address'] = datar.Address.str.replace(r'(^.*Gauteng.*$)','Gauteng')\n",
        "datar['Address'] = datar.Address.str.replace(r'(^.*Soweto.*$)','Gauteng')\n",
        "datar['Address'] = datar.Address.str.replace(r'(^.*Randfontein.*$)', 'Gauteng')\n",
        "datar['Address'] = datar.Address.str.replace(r'(^.*Cape Town.*$)', 'Western Cape')\n",
        "datar['Address'] = datar.Address.str.replace(r'(^.*Bellville.*$)', 'Western Cape')\n",
        "datar['Address'] = datar.Address.str.replace(r'(^.*Stellenbosch.*$)', 'Western Cape')\n",
        "datar['Address'] = datar.Address.str.replace(r'(^.*Alice.*$)', 'Eastern Cape')\n",
        "datar['Address'] = datar.Address.str.replace(r'(^.*Montana.*$)', 'Eastern Cape')\n",
        "datar['Address'] = datar.Address.str.replace(r'(^.*Queenstown.*$)', 'Eastern Cape')\n",
        "datar['Address'] = datar.Address.str.replace(r'(^.*Butterwort.*$)', 'Eastern Cape')\n",
        "datar['Address'] = datar.Address.str.replace(r'(^.*East London.*$)', 'Eastern Cape')\n",
        "datar['Address'] = datar.Address.str.replace(r'(^.*Graaff-Reinet.*$)', 'Eastern Cape')\n",
        "datar['Address'] = datar.Address.str.replace(r'(^.*Grahamstown.*$)', 'Eastern Cape')\n",
        "datar['Address'] = datar.Address.str.replace(r'(^.*Bethelsdorp.*$)', 'Eastern Cape')\n",
        "datar['Address'] = datar.Address.str.replace(r'(^.*King William’s Town.*$)', 'Eastern Cape')\n",
        "datar['Address'] = datar.Address.str.replace(r'(^.*Mthatha.*$)', 'Eastern Cape')\n",
        "datar['Address'] = datar.Address.str.replace(r'(^.*Port Elizabeth.*$)', 'Eastern Cape')\n",
        "datar['Address'] = datar.Address.str.replace(r'(^.*Uitenhage.*$)', 'Eastern Cape')\n",
        "datar['Address'] = datar.Address.str.replace(r'(^.*Zwelitsha.*$)', 'Eastern Cape')\n",
        "datar['Address'] = datar.Address.str.replace(r'(^.*Bethlehem.*$)', 'Free State')\n",
        "datar['Address'] = datar.Address.str.replace(r'(^.*Bloemfontein.*$)', 'Free State')\n",
        "datar['Address'] = datar.Address.str.replace(r'(^.*Jagersfontein.*$)', 'Free State')\n",
        " \n",
        " \n",
        "datar['Address'] = datar.Address.str.replace(r'(^.*Parys.*$)', 'Free State')\n",
        " \n",
        " \n",
        "datar['Address'] = datar.Address.str.replace(r'(^.*Virginia.*$)', 'Free State')\n",
        " \n",
        "datar['Address'] = datar.Address.str.replace(r'(^.*Welkom.*$)', 'Free State')\n",
        " \n",
        "datar['Address'] = datar.Address.str.replace(r'(^.*Kroonstad.*$)', 'Free State')\n",
        " \n",
        "datar['Address'] = datar.Address.str.replace(r'(^.*Odendaalsrus.*$)', 'Free State')\n",
        " \n",
        "datar['Address'] = datar.Address.str.replace(r'(^.*Phuthaditjhaba.*$)', 'Free State')\n",
        " \n",
        "datar['Address'] = datar.Address.str.replace(r'(^.*Sasolburg.*$)', 'Free State')\n",
        " \n",
        "datar['Address'] = datar.Address.str.replace(r'(^.*Giyani.*$)', 'Limpopo')\n",
        "datar['Address'] = datar.Address.str.replace(r'(^.*Lebowakgomo.*$)', 'Limpopo')\n",
        "datar['Address'] = datar.Address.str.replace(r'(^.*Musina.*$)', 'Limpopo')\n",
        "datar['Address'] = datar.Address.str.replace(r'(^.*Phalaborwa.*$)', 'Limpopo')\n",
        "datar['Address'] = datar.Address.str.replace(r'(^.*Polokwane.*$)', 'Limpopo')\n",
        "datar['Address'] = datar.Address.str.replace(r'(^.*Thabazimbi.*$)', 'Limpopo')\n",
        "datar['Address'] = datar.Address.str.replace(r'(^.*Sibasa.*$)', 'Limpopo')\n",
        "datar['Address'] = datar.Address.str.replace(r'(^.Seshego.*$)', 'Limpopo')\n",
        " \n",
        " \n",
        "datar['Address'] = datar.Address.str.replace(r'(^.*Klerksdorp.*$)', 'North West')\n",
        " \n",
        "datar['Address'] = datar.Address.str.replace(r'(^.*Mahikeng.*$)', 'North West')\n",
        " \n",
        "datar['Address'] = datar.Address.str.replace(r'(^.*Mmabatho.*$)', 'North West')\n",
        " \n",
        "datar['Address'] = datar.Address.str.replace(r'(^.*Potchefstroom.*$)', 'North West')\n",
        " \n",
        "datar['Address'] = datar.Address.str.replace(r'(^.*Rustenburg.*$)', 'North West')\n",
        " \n",
        "datar['Address'] = datar.Address.str.replace(r'(^.*Port Nolloth.*$)', 'Northern Cape')\n",
        " \n",
        "datar['Address'] = datar.Address.str.replace(r'(^.*Kimberley.*$)', 'Northern Cape')\n",
        " \n",
        "datar['Address'] = datar.Address.str.replace(r'(^.*Kuruman.*$)', 'Northern Cape')\n",
        " \n",
        "datar['Address'] = datar.Address.str.replace(r'(^.*Constantia.*$)', 'Western Cape')\n",
        " \n",
        "datar['Address'] = datar.Address.str.replace(r'(^.*George.*$)', 'Western Cape')\n",
        " \n",
        "datar['Address'] = datar.Address.str.replace(r'(^.*Hopefield.*$)', 'Western Cape')\n",
        " \n",
        "datar['Address'] = datar.Address.str.replace(r'(^.*Oudtshoorn.*$)', 'Western Cape')\n",
        " \n",
        "datar['Address'] = datar.Address.str.replace(r'(^.*Paarl.*$)', 'Western Cape')\n",
        " \n",
        "datar['Address'] = datar.Address.str.replace(r'(^.*Simon\\'s Town.*$)', 'Western Cape')\n",
        " \n",
        "datar['Address'] = datar.Address.str.replace(r'(^.*Swellendam.*$)', 'Western Cape')\n",
        " \n",
        "datar['Address'] = datar.Address.str.replace(r'(^.*Worcester.*$)', 'Western Cape')\n",
        " \n",
        "datar['Address'] = datar.Address.str.replace(r'(^.*Emalahleni.*$)', 'Mpumalanga')\n",
        " \n",
        "datar['Address'] = datar.Address.str.replace(r'(^.*Secunda.*$)', 'Mpumalanga')\n",
        " \n",
        "datar['Address'] = datar.Address.str.replace(r'(^.*Nelspruit.*$)', 'Mpumalanga')\n",
        " \n",
        "datar['Address'] = datar.Address.str.replace(r'(^.*Benoni.*$)', 'Gauteng')\n",
        " \n",
        "datar['Address'] = datar.Address.str.replace(r'(^.*Boksburg.*$)', 'Gauteng')\n",
        " \n",
        "datar['Address'] = datar.Address.str.replace(r'(^.*Brakspan.*$)', 'Gauteng')\n",
        " \n",
        "datar['Address'] = datar.Address.str.replace(r'(^.*Carletonville.*$)', 'Gauteng')\n",
        " \n",
        "datar['Address'] = datar.Address.str.replace(r'(^.*Germiston.*$)', 'Gauteng')\n",
        " \n",
        "datar['Address'] = datar.Address.str.replace(r'(^.*Krugersdrop.*$)', 'Gauteng')\n",
        " \n",
        "datar['Address'] = datar.Address.str.replace(r'(^.*Springs.*$)', 'Gauteng')\n",
        " \n",
        "datar['Address'] = datar.Address.str.replace(r'(^.*Randburg.*$)', 'Gauteng')\n",
        " \n",
        "datar['Address'] = datar.Address.str.replace(r'(^.*Vanderbijlpark.*$)', 'Gauteng')\n",
        " \n",
        "datar['Address'] = datar.Address.str.replace(r'(^.*Roodepoort.*$)', 'Gauteng')\n",
        " \n",
        "datar['Address'] = datar.Address.str.replace(r'(^.*Vereeniging.*$)', 'Gauteng')\n",
        " \n",
        "datar['Address'] = datar.Address.str.replace(r'(^.*Mpumalanga.*$)', 'Mpumalanga')\n",
        " \n",
        "datar['Address'] = datar.Address.str.replace(r'(^.*Limpopo.*$)', 'Limpopo')\n",
        " \n",
        "datar['Address'] = datar.Address.str.replace(r'(^.*Free State.*$)', 'Free State')\n",
        " \n",
        "datar['Address'] = datar.Address.str.replace(r'(^.*Eastern Cape.*$)', 'Eastern Cape')\n",
        " \n",
        "datar['Address'] = datar.Address.str.replace(r'(^.*North West.*$)', 'North West')\n",
        " \n",
        "datar['Address'] = datar.Address.str.replace(r'(^.*Western Cape.*$)', 'Western Cape')\n",
        " \n",
        "datar['Address'] = datar.Address.str.replace(r'(^.*Northern Cape.*$)', 'Northern Cape')\n",
        " \n",
        "datar['Address'] = datar.Address.str.replace(r'(^.*KwaZulu-Natal.*$)', 'KwaZulu-Natal')\n",
        " \n",
        "datar['Address'] = datar.Address.str.replace(r'(^.*Durban.*$)', 'KwaZulu-Natal')\n",
        " \n",
        "datar['Address'] = datar.Address.str.replace(r'(^.*Empangeni.*$)', 'KwaZulu-Natal')\n",
        " \n",
        "datar['Address'] = datar.Address.str.replace(r'(^.*Ladysmith.*$)', 'KwaZulu-Natal')\n",
        " \n",
        "datar['Address'] = datar.Address.str.replace(r'(^.*Newcastle.*$)', 'KwaZulu-Natal')\n",
        " \n",
        "datar['Address'] = datar.Address.str.replace(r'(^.*Pietermaritzburg.*$)', 'KwaZulu-Natal')\n",
        " \n",
        "datar['Address'] = datar.Address.str.replace(r'(^.*Pinetown.*$)', 'KwaZulu-Natal')\n",
        " \n",
        "datar['Address'] = datar.Address.str.replace(r'(^.*Ulundi.*$)', 'KwaZulu-Natal')\n",
        " \n",
        "datar['Address'] = datar.Address.str.replace(r'(^.*Umlazi.*$)', 'KwaZulu-Natal')\n",
        " \n",
        "datar['Address'] = datar.Address.str.replace(r'(^.*Magaliessig.*$)', 'Gauteng')\n",
        " \n",
        "datar['Address'] = datar.Address.str.replace(r'(^.*Sandton.*$)', 'Gauteng')\n",
        " \n",
        "datar['Address'] = datar.Address.str.replace(r'(^.*Kempton Park.*$)', 'Gauteng')\n",
        " \n",
        "datar['Address'] = datar.Address.str.replace(r'(^.*Margate.*$)', 'KwaZulu-Natal')\n",
        " \n",
        "datar['Address'] = datar.Address.str.replace(r'(^.*Midrand.*$)', 'Gauteng')\n",
        " \n",
        "datar['Address'] = datar.Address.str.replace(r'(^.*Lenasia.*$)', 'Gauteng')\n",
        " \n",
        "datar['Address'] = datar.Address.str.replace(r'(^.*Edenvale.*$)', 'Gauteng')\n",
        " \n",
        "datar['Address'] = datar.Address.str.replace(r'(^.*PRETORIA.*$)', 'Gauteng')\n",
        " \n",
        "datar['Address'] = datar.Address.str.replace(r'(^.*Willowbridge Shopping Centre.*$)', 'Western Cape')\n",
        " \n",
        "datar['Address'] = datar.Address.str.replace(r'(^.Lakeside.*$)', 'Western Cape')\n",
        " \n",
        "datar['Address'] = datar.Address.str.replace(r'(^.*Alberton.*$)', 'Gauteng')\n",
        " \n",
        "datar['Address'] = datar.Address.str.replace(r'(^.*Richards Bay.*$)', 'KwaZulu-Natal')\n",
        " \n",
        "datar['Address'] = datar.Address.str.replace(r'(^.*Knysna.*$)', 'Western Cape')\n",
        " \n",
        "datar['Address'] = datar.Address.str.replace(r'(^.*Tzaneen.*$)', 'Limpopo')\n",
        " \n",
        "datar['Address'] = datar.Address.str.replace(r'(^.*Moregloed.*$)', 'Gauteng')\n",
        " \n",
        "datar['Address'] = datar.Address.str.replace(r'(^.*Tshwane.*$)', 'Gauteng')\n",
        " \n",
        "datar['Address'] = datar.Address.str.replace(r'(^.*Fochville.*$)', 'Gauteng')\n",
        " \n",
        "datar['Address'] = datar.Address.str.replace(r'(^.*Hermanus.*$)', 'Western Cape')\n",
        " \n",
        "datar['Address'] = datar.Address.str.replace(r'(^.*Upington.*$)', 'Northern Cape')\n",
        " \n",
        "datar['Address'] = datar.Address.str.replace(r'(^.*Meyerton.*$)', 'Gauteng')\n",
        " \n",
        "datar['Address'] = datar.Address.str.replace(r'(^.*Kloof.*$)', 'KwaZulu-Natal')\n",
        " \n",
        "datar['Address'] = datar.Address.str.replace(r'(^.*Scottburgh.*$)', 'KwaZulu-Natal')\n",
        " \n",
        "datar['Address'] = datar.Address.str.replace(r'(^.*Wellington.*$)', 'Western Cape')\n",
        " \n",
        "datar['Address'] = datar.Address.str.replace(r'(^.*Hartbeespoort.*$)', 'North West')\n",
        " \n",
        "datar['Address'] = datar.Address.str.replace(r'(^.*Kathu.*$)', 'Northern Cape')\n",
        " \n",
        "datar['Address'] = datar.Address.str.replace(r'(^.*Dolphin Coast.*$)', 'KwaZulu-Natal')\n",
        " \n",
        "datar['Address'] = datar.Address.str.replace(r'(^.*Middelburg.*$)', 'Mpubalanga')\n",
        " \n",
        "datar['Address'] = datar.Address.str.replace(r'(^.*Lethabong.*$)', 'Gauteng')\n",
        " \n",
        "datar['Address'] = datar.Address.str.replace(r'(^.*Umhlanga.*$)', 'KwaZulu-Natal')\n",
        " \n",
        "datar['Address'] = datar.Address.str.replace(r'(^.*Goldfields Mall.*$)', 'Free State')\n",
        " \n",
        "datar['Address'] = datar.Address.str.replace(r'(^.*Fourways.*$)', 'Gauteng')\n",
        " \n",
        "datar['Address'] = datar.Address.str.replace(r'(^.*Brayanston.*$)', 'Gauteng')\n",
        " \n",
        "datar['Address'] = datar.Address.str.replace(r'(^.*Krugersdrops.*$)', 'Gauteng')\n",
        " \n",
        "datar['Address'] = datar.Address.str.replace(r'(^.*Melrose.*$)', 'Gauteng')\n",
        " \n",
        "datar['Address'] = datar.Address.str.replace(r'(^.*Illovo.*$)', 'Gauteng')\n",
        " \n",
        "datar['Address'] = datar.Address.str.replace(r'(^.*kimberley.*$)', 'Gauteng')\n",
        " \n",
        "datar['Address'] = datar.Address.str.replace(r'(^.*Berea.*$)', 'KwaZulu-Natal')\n",
        " \n",
        "datar['Address'] = datar.Address.str.replace(r'(^.*Centurion.*$)', 'Gauteng')\n",
        " \n",
        "datar['Address'] = datar.Address.str.replace(r'(^.*Still Bay.*$)', 'Western Cape')\n",
        " \n",
        "datar['Address'] = datar.Address.str.replace(r'(^.*GOLDFIELDS MALL.*$)', 'Free State')\n",
        " \n",
        "datar['Address'] = datar.Address.str.replace(r'(^.*Bluberg.*$)', 'Western Cape')\n",
        " \n",
        "datar['Address'] = datar.Address.str.replace(r'(^.*Lakeside.*$)', 'Gauteng')"
      ],
      "execution_count": null,
      "outputs": []
    },
    {
      "cell_type": "code",
      "metadata": {
        "id": "5QUkCeX88_ug",
        "colab_type": "code",
        "colab": {}
      },
      "source": [
        "datar.to_csv('datar.csv')"
      ],
      "execution_count": null,
      "outputs": []
    },
    {
      "cell_type": "code",
      "metadata": {
        "id": "Ser60CUhT20d",
        "colab_type": "code",
        "colab": {}
      },
      "source": [
        "data_new = data.iloc[0:241]"
      ],
      "execution_count": null,
      "outputs": []
    },
    {
      "cell_type": "code",
      "metadata": {
        "id": "UOklo78WbOAQ",
        "colab_type": "code",
        "colab": {
          "base_uri": "https://localhost:8080/",
          "height": 674
        },
        "outputId": "0ec8200a-3bef-483f-c7ac-5aece9f1d9fe"
      },
      "source": [
        "data_new = data_new[['Name', 'Address']]\n",
        "data_new"
      ],
      "execution_count": null,
      "outputs": [
        {
          "output_type": "execute_result",
          "data": {
            "text/html": [
              "<div>\n",
              "<style scoped>\n",
              "    .dataframe tbody tr th:only-of-type {\n",
              "        vertical-align: middle;\n",
              "    }\n",
              "\n",
              "    .dataframe tbody tr th {\n",
              "        vertical-align: top;\n",
              "    }\n",
              "\n",
              "    .dataframe thead th {\n",
              "        text-align: right;\n",
              "    }\n",
              "</style>\n",
              "<table border=\"1\" class=\"dataframe\">\n",
              "  <thead>\n",
              "    <tr style=\"text-align: right;\">\n",
              "      <th></th>\n",
              "      <th>Name</th>\n",
              "      <th>Address</th>\n",
              "    </tr>\n",
              "  </thead>\n",
              "  <tbody>\n",
              "    <tr>\n",
              "      <th>0</th>\n",
              "      <td>The Vapery Montana</td>\n",
              "      <td>Shop 001 Montana Corner Shopping Centre Corne...</td>\n",
              "    </tr>\n",
              "    <tr>\n",
              "      <th>1</th>\n",
              "      <td>Vape King Mega Store - Fourways</td>\n",
              "      <td>4, Merrow Down Plaza, Fourways, 71 Troupant A...</td>\n",
              "    </tr>\n",
              "    <tr>\n",
              "      <th>2</th>\n",
              "      <td>Vape Shop SA</td>\n",
              "      <td>Sandhurst, Sandton, 2196, South Africa</td>\n",
              "    </tr>\n",
              "    <tr>\n",
              "      <th>3</th>\n",
              "      <td>Vape Africa / Vap3</td>\n",
              "      <td>N1 City Value Mall, 53 Solly Smiedt Street, N...</td>\n",
              "    </tr>\n",
              "    <tr>\n",
              "      <th>4</th>\n",
              "      <td>VapeShop Melrose Arch</td>\n",
              "      <td>Melrose Arch, (outside Woolworths), Johannesbu...</td>\n",
              "    </tr>\n",
              "    <tr>\n",
              "      <th>...</th>\n",
              "      <td>...</td>\n",
              "      <td>...</td>\n",
              "    </tr>\n",
              "    <tr>\n",
              "      <th>236</th>\n",
              "      <td>vaperite</td>\n",
              "      <td>V alley View Centre, Krugersdrops</td>\n",
              "    </tr>\n",
              "    <tr>\n",
              "      <th>237</th>\n",
              "      <td>vaperite</td>\n",
              "      <td>Blubird Centre, Melrose</td>\n",
              "    </tr>\n",
              "    <tr>\n",
              "      <th>238</th>\n",
              "      <td>vapeking</td>\n",
              "      <td>Bracken Villa Alberton</td>\n",
              "    </tr>\n",
              "    <tr>\n",
              "      <th>239</th>\n",
              "      <td>vapeking</td>\n",
              "      <td>Homestead,kimberley</td>\n",
              "    </tr>\n",
              "    <tr>\n",
              "      <th>240</th>\n",
              "      <td>vapeking</td>\n",
              "      <td>Post Office Centre, Illovo</td>\n",
              "    </tr>\n",
              "  </tbody>\n",
              "</table>\n",
              "<p>241 rows × 2 columns</p>\n",
              "</div>"
            ],
            "text/plain": [
              "                                Name                                            Address\n",
              "0                 The Vapery Montana   Shop 001 Montana Corner Shopping Centre Corne...\n",
              "1    Vape King Mega Store - Fourways   4, Merrow Down Plaza, Fourways, 71 Troupant A...\n",
              "2                       Vape Shop SA             Sandhurst, Sandton, 2196, South Africa\n",
              "3                 Vape Africa / Vap3   N1 City Value Mall, 53 Solly Smiedt Street, N...\n",
              "4              VapeShop Melrose Arch  Melrose Arch, (outside Woolworths), Johannesbu...\n",
              "..                               ...                                                ...\n",
              "236                         vaperite                  V alley View Centre, Krugersdrops\n",
              "237                         vaperite                            Blubird Centre, Melrose\n",
              "238                         vapeking                             Bracken Villa Alberton\n",
              "239                         vapeking                                Homestead,kimberley\n",
              "240                         vapeking                         Post Office Centre, Illovo\n",
              "\n",
              "[241 rows x 2 columns]"
            ]
          },
          "metadata": {
            "tags": []
          },
          "execution_count": 37
        }
      ]
    },
    {
      "cell_type": "code",
      "metadata": {
        "id": "JbnWRGvlY7o3",
        "colab_type": "code",
        "colab": {
          "base_uri": "https://localhost:8080/",
          "height": 419
        },
        "outputId": "c3e753cc-5956-4971-f4f4-2828c47ab9e0"
      },
      "source": [
        "datar"
      ],
      "execution_count": null,
      "outputs": [
        {
          "output_type": "execute_result",
          "data": {
            "text/html": [
              "<div>\n",
              "<style scoped>\n",
              "    .dataframe tbody tr th:only-of-type {\n",
              "        vertical-align: middle;\n",
              "    }\n",
              "\n",
              "    .dataframe tbody tr th {\n",
              "        vertical-align: top;\n",
              "    }\n",
              "\n",
              "    .dataframe thead th {\n",
              "        text-align: right;\n",
              "    }\n",
              "</style>\n",
              "<table border=\"1\" class=\"dataframe\">\n",
              "  <thead>\n",
              "    <tr style=\"text-align: right;\">\n",
              "      <th></th>\n",
              "      <th>Address</th>\n",
              "    </tr>\n",
              "  </thead>\n",
              "  <tbody>\n",
              "    <tr>\n",
              "      <th>0</th>\n",
              "      <td>Gauteng</td>\n",
              "    </tr>\n",
              "    <tr>\n",
              "      <th>1</th>\n",
              "      <td>Gauteng</td>\n",
              "    </tr>\n",
              "    <tr>\n",
              "      <th>2</th>\n",
              "      <td>Gauteng</td>\n",
              "    </tr>\n",
              "    <tr>\n",
              "      <th>3</th>\n",
              "      <td>Western Cape</td>\n",
              "    </tr>\n",
              "    <tr>\n",
              "      <th>4</th>\n",
              "      <td>Gauteng</td>\n",
              "    </tr>\n",
              "    <tr>\n",
              "      <th>...</th>\n",
              "      <td>...</td>\n",
              "    </tr>\n",
              "    <tr>\n",
              "      <th>236</th>\n",
              "      <td>Gauteng</td>\n",
              "    </tr>\n",
              "    <tr>\n",
              "      <th>237</th>\n",
              "      <td>Gauteng</td>\n",
              "    </tr>\n",
              "    <tr>\n",
              "      <th>238</th>\n",
              "      <td>Gauteng</td>\n",
              "    </tr>\n",
              "    <tr>\n",
              "      <th>239</th>\n",
              "      <td>Gauteng</td>\n",
              "    </tr>\n",
              "    <tr>\n",
              "      <th>240</th>\n",
              "      <td>Gauteng</td>\n",
              "    </tr>\n",
              "  </tbody>\n",
              "</table>\n",
              "<p>241 rows × 1 columns</p>\n",
              "</div>"
            ],
            "text/plain": [
              "          Address\n",
              "0         Gauteng\n",
              "1         Gauteng\n",
              "2         Gauteng\n",
              "3    Western Cape\n",
              "4         Gauteng\n",
              "..            ...\n",
              "236       Gauteng\n",
              "237       Gauteng\n",
              "238       Gauteng\n",
              "239       Gauteng\n",
              "240       Gauteng\n",
              "\n",
              "[241 rows x 1 columns]"
            ]
          },
          "metadata": {
            "tags": []
          },
          "execution_count": 28
        }
      ]
    },
    {
      "cell_type": "code",
      "metadata": {
        "id": "aTWiCxywebJI",
        "colab_type": "code",
        "colab": {
          "base_uri": "https://localhost:8080/",
          "height": 694
        },
        "outputId": "0895b9a2-ce03-412e-dada-bfdf092a3cf3"
      },
      "source": [
        "data_neaw = pd.concat([data_new,datar],axis=1)\n",
        "data_neaw.columns = ['Name','Address', 'Province']\n",
        "data_neaw"
      ],
      "execution_count": null,
      "outputs": [
        {
          "output_type": "execute_result",
          "data": {
            "text/html": [
              "<div>\n",
              "<style scoped>\n",
              "    .dataframe tbody tr th:only-of-type {\n",
              "        vertical-align: middle;\n",
              "    }\n",
              "\n",
              "    .dataframe tbody tr th {\n",
              "        vertical-align: top;\n",
              "    }\n",
              "\n",
              "    .dataframe thead th {\n",
              "        text-align: right;\n",
              "    }\n",
              "</style>\n",
              "<table border=\"1\" class=\"dataframe\">\n",
              "  <thead>\n",
              "    <tr style=\"text-align: right;\">\n",
              "      <th></th>\n",
              "      <th>Name</th>\n",
              "      <th>Address</th>\n",
              "      <th>Province</th>\n",
              "    </tr>\n",
              "  </thead>\n",
              "  <tbody>\n",
              "    <tr>\n",
              "      <th>0</th>\n",
              "      <td>The Vapery Montana</td>\n",
              "      <td>Shop 001 Montana Corner Shopping Centre Corne...</td>\n",
              "      <td>Gauteng</td>\n",
              "    </tr>\n",
              "    <tr>\n",
              "      <th>1</th>\n",
              "      <td>Vape King Mega Store - Fourways</td>\n",
              "      <td>4, Merrow Down Plaza, Fourways, 71 Troupant A...</td>\n",
              "      <td>Gauteng</td>\n",
              "    </tr>\n",
              "    <tr>\n",
              "      <th>2</th>\n",
              "      <td>Vape Shop SA</td>\n",
              "      <td>Sandhurst, Sandton, 2196, South Africa</td>\n",
              "      <td>Gauteng</td>\n",
              "    </tr>\n",
              "    <tr>\n",
              "      <th>3</th>\n",
              "      <td>Vape Africa / Vap3</td>\n",
              "      <td>N1 City Value Mall, 53 Solly Smiedt Street, N...</td>\n",
              "      <td>Western Cape</td>\n",
              "    </tr>\n",
              "    <tr>\n",
              "      <th>4</th>\n",
              "      <td>VapeShop Melrose Arch</td>\n",
              "      <td>Melrose Arch, (outside Woolworths), Johannesbu...</td>\n",
              "      <td>Gauteng</td>\n",
              "    </tr>\n",
              "    <tr>\n",
              "      <th>...</th>\n",
              "      <td>...</td>\n",
              "      <td>...</td>\n",
              "      <td>...</td>\n",
              "    </tr>\n",
              "    <tr>\n",
              "      <th>236</th>\n",
              "      <td>vaperite</td>\n",
              "      <td>V alley View Centre, Krugersdrops</td>\n",
              "      <td>Gauteng</td>\n",
              "    </tr>\n",
              "    <tr>\n",
              "      <th>237</th>\n",
              "      <td>vaperite</td>\n",
              "      <td>Blubird Centre, Melrose</td>\n",
              "      <td>Gauteng</td>\n",
              "    </tr>\n",
              "    <tr>\n",
              "      <th>238</th>\n",
              "      <td>vapeking</td>\n",
              "      <td>Bracken Villa Alberton</td>\n",
              "      <td>Gauteng</td>\n",
              "    </tr>\n",
              "    <tr>\n",
              "      <th>239</th>\n",
              "      <td>vapeking</td>\n",
              "      <td>Homestead,kimberley</td>\n",
              "      <td>Gauteng</td>\n",
              "    </tr>\n",
              "    <tr>\n",
              "      <th>240</th>\n",
              "      <td>vapeking</td>\n",
              "      <td>Post Office Centre, Illovo</td>\n",
              "      <td>Gauteng</td>\n",
              "    </tr>\n",
              "  </tbody>\n",
              "</table>\n",
              "<p>241 rows × 3 columns</p>\n",
              "</div>"
            ],
            "text/plain": [
              "                                Name  ...      Province\n",
              "0                 The Vapery Montana  ...       Gauteng\n",
              "1    Vape King Mega Store - Fourways  ...       Gauteng\n",
              "2                       Vape Shop SA  ...       Gauteng\n",
              "3                 Vape Africa / Vap3  ...  Western Cape\n",
              "4              VapeShop Melrose Arch  ...       Gauteng\n",
              "..                               ...  ...           ...\n",
              "236                         vaperite  ...       Gauteng\n",
              "237                         vaperite  ...       Gauteng\n",
              "238                         vapeking  ...       Gauteng\n",
              "239                         vapeking  ...       Gauteng\n",
              "240                         vapeking  ...       Gauteng\n",
              "\n",
              "[241 rows x 3 columns]"
            ]
          },
          "metadata": {
            "tags": []
          },
          "execution_count": 52
        }
      ]
    },
    {
      "cell_type": "code",
      "metadata": {
        "id": "Zax7bB-EpJQw",
        "colab_type": "code",
        "colab": {}
      },
      "source": [
        " data_neaw.to_csv('data_neaw.csv')"
      ],
      "execution_count": null,
      "outputs": []
    },
    {
      "cell_type": "code",
      "metadata": {
        "id": "W2Ep6BYiRat5",
        "colab_type": "code",
        "colab": {
          "base_uri": "https://localhost:8080/",
          "height": 34
        },
        "outputId": "b3ba5b13-f5d3-4113-a940-378f539a66d6"
      },
      "source": [
        "%cd '/content/drive/My Drive/Kaggle'"
      ],
      "execution_count": null,
      "outputs": [
        {
          "output_type": "stream",
          "text": [
            "/content/drive/My Drive/Kaggle\n"
          ],
          "name": "stdout"
        }
      ]
    },
    {
      "cell_type": "code",
      "metadata": {
        "id": "AanKsZS_wBHY",
        "colab_type": "code",
        "colab": {
          "base_uri": "https://localhost:8080/",
          "height": 708
        },
        "outputId": "cdfa39a8-2b1d-4d35-e5b6-d904d55ddf5a"
      },
      "source": [
        "east = ['Alice','Montana','Butterwort','East London','Graaff-Reinet','Grahamstown','King William’s Town','Mthatha','Port Elizabeth','Queenstown','Uitenhage','Zwelitsha']\n",
        "for est in east:\n",
        "   datar['Address'] = datar.Address.str.replace(r'(^.*est.*$)','Eastern Cape')\n",
        "   print(est)\n",
        "datar"
      ],
      "execution_count": null,
      "outputs": [
        {
          "output_type": "stream",
          "text": [
            "Alice\n",
            "Montana\n",
            "Butterwort\n",
            "East London\n",
            "Graaff-Reinet\n",
            "Grahamstown\n",
            "King William’s Town\n",
            "Mthatha\n",
            "Port Elizabeth\n",
            "Queenstown\n",
            "Uitenhage\n",
            "Zwelitsha\n"
          ],
          "name": "stdout"
        },
        {
          "output_type": "execute_result",
          "data": {
            "text/html": [
              "<div>\n",
              "<style scoped>\n",
              "    .dataframe tbody tr th:only-of-type {\n",
              "        vertical-align: middle;\n",
              "    }\n",
              "\n",
              "    .dataframe tbody tr th {\n",
              "        vertical-align: top;\n",
              "    }\n",
              "\n",
              "    .dataframe thead th {\n",
              "        text-align: right;\n",
              "    }\n",
              "</style>\n",
              "<table border=\"1\" class=\"dataframe\">\n",
              "  <thead>\n",
              "    <tr style=\"text-align: right;\">\n",
              "      <th></th>\n",
              "      <th>Address</th>\n",
              "    </tr>\n",
              "  </thead>\n",
              "  <tbody>\n",
              "    <tr>\n",
              "      <th>0</th>\n",
              "      <td>Shop 001 Montana Corner Shopping Centre Corne...</td>\n",
              "    </tr>\n",
              "    <tr>\n",
              "      <th>1</th>\n",
              "      <td>4, Merrow Down Plaza, Fourways, 71 Troupant A...</td>\n",
              "    </tr>\n",
              "    <tr>\n",
              "      <th>2</th>\n",
              "      <td>Sandhurst, Sandton, 2196, South Africa</td>\n",
              "    </tr>\n",
              "    <tr>\n",
              "      <th>3</th>\n",
              "      <td>N1 City Value Mall, 53 Solly Smiedt Street, N...</td>\n",
              "    </tr>\n",
              "    <tr>\n",
              "      <th>4</th>\n",
              "      <td>Melrose Arch, (outside Woolworths), Johannesbu...</td>\n",
              "    </tr>\n",
              "    <tr>\n",
              "      <th>...</th>\n",
              "      <td>...</td>\n",
              "    </tr>\n",
              "    <tr>\n",
              "      <th>236</th>\n",
              "      <td>V alley View Centre, Krugersdrops</td>\n",
              "    </tr>\n",
              "    <tr>\n",
              "      <th>237</th>\n",
              "      <td>Blubird Centre, Melrose</td>\n",
              "    </tr>\n",
              "    <tr>\n",
              "      <th>238</th>\n",
              "      <td>Bracken Villa Alberton</td>\n",
              "    </tr>\n",
              "    <tr>\n",
              "      <th>239</th>\n",
              "      <td>Eastern Cape</td>\n",
              "    </tr>\n",
              "    <tr>\n",
              "      <th>240</th>\n",
              "      <td>Post Office Centre, Illovo</td>\n",
              "    </tr>\n",
              "  </tbody>\n",
              "</table>\n",
              "<p>240 rows × 1 columns</p>\n",
              "</div>"
            ],
            "text/plain": [
              "                                               Address\n",
              "0     Shop 001 Montana Corner Shopping Centre Corne...\n",
              "1     4, Merrow Down Plaza, Fourways, 71 Troupant A...\n",
              "2               Sandhurst, Sandton, 2196, South Africa\n",
              "3     N1 City Value Mall, 53 Solly Smiedt Street, N...\n",
              "4    Melrose Arch, (outside Woolworths), Johannesbu...\n",
              "..                                                 ...\n",
              "236                  V alley View Centre, Krugersdrops\n",
              "237                            Blubird Centre, Melrose\n",
              "238                             Bracken Villa Alberton\n",
              "239                                       Eastern Cape\n",
              "240                         Post Office Centre, Illovo\n",
              "\n",
              "[240 rows x 1 columns]"
            ]
          },
          "metadata": {
            "tags": []
          },
          "execution_count": 12
        }
      ]
    },
    {
      "cell_type": "code",
      "metadata": {
        "id": "Zpnpcoo85-Ns",
        "colab_type": "code",
        "colab": {
          "base_uri": "https://localhost:8080/",
          "height": 69
        },
        "outputId": "9020da08-c3c2-4c2e-ae62-faf3655c2cd9"
      },
      "source": [
        "S=Addr[1]\n",
        "S"
      ],
      "execution_count": null,
      "outputs": [
        {
          "output_type": "execute_result",
          "data": {
            "application/vnd.google.colaboratory.intrinsic+json": {
              "type": "string"
            },
            "text/plain": [
              "' 4, Merrow Down Plaza, Fourways, 71 Troupant Ave, Magaliessig, 2191, South Africa'"
            ]
          },
          "metadata": {
            "tags": []
          },
          "execution_count": 29
        }
      ]
    }
  ]
}